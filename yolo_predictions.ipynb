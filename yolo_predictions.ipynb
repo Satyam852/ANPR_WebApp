{
 "cells": [
  {
   "cell_type": "code",
   "execution_count": 1,
   "id": "cb82c4c8",
   "metadata": {},
   "outputs": [],
   "source": [
    "import cv2\n",
    "import numpy as np\n",
    "import os\n",
    "import pytesseract as pt"
   ]
  },
  {
   "cell_type": "code",
   "execution_count": 2,
   "id": "4f4f6c0f",
   "metadata": {},
   "outputs": [],
   "source": [
    "#setting\n",
    "INPUT_WIDTH = 640\n",
    "INPUT_HEIGHT = 640"
   ]
  },
  {
   "cell_type": "code",
   "execution_count": 3,
   "id": "b17a4f56",
   "metadata": {},
   "outputs": [],
   "source": [
    "#LOAD THE IMAGE\n",
    "img= cv2.imread('./Module_4_Yolo_v5/test_images/getty_sample.jpg')\n",
    "\n",
    "cv2.namedWindow('test image',cv2.WINDOW_KEEPRATIO)\n",
    "cv2.imshow('test image',img)\n",
    "cv2.waitKey(0)\n",
    "cv2.destroyAllWindows()"
   ]
  },
  {
   "cell_type": "markdown",
   "id": "2b8ab4f3",
   "metadata": {},
   "source": [
    "## LOAD YOLO MODEL"
   ]
  },
  {
   "cell_type": "code",
   "execution_count": 4,
   "id": "3d3196d2",
   "metadata": {},
   "outputs": [],
   "source": [
    "\n",
    "net = cv2.dnn.readNetFromONNX('./Model2-20240626T003829Z-001/Model2/weights/best.onnx')\n",
    "net.setPreferableBackend(cv2.dnn.DNN_BACKEND_OPENCV)\n",
    "net.setPreferableTarget(cv2.dnn.DNN_TARGET_CPU)\n"
   ]
  },
  {
   "cell_type": "code",
   "execution_count": 14,
   "id": "9dd24fc8",
   "metadata": {},
   "outputs": [],
   "source": []
  },
  {
   "cell_type": "code",
   "execution_count": 15,
   "id": "47b0db5a",
   "metadata": {},
   "outputs": [],
   "source": []
  },
  {
   "cell_type": "code",
   "execution_count": null,
   "id": "17d8617a",
   "metadata": {},
   "outputs": [],
   "source": []
  },
  {
   "cell_type": "code",
   "execution_count": 5,
   "id": "0103fd31",
   "metadata": {},
   "outputs": [],
   "source": [
    "#CONVERT THE IMAGE INOT YOLO FORMAT\n",
    "def get_detections(img,net):\n",
    "    image = img.copy()\n",
    "    row, col, d = image.shape\n",
    "\n",
    "    max_rc = max(row,col)\n",
    "    input_image = np.zeros((max_rc,max_rc,3),dtype=np.uint8)\n",
    "    input_image[0:row,0:col] = image\n",
    "    \n",
    "    #GET PREDICTIONS FROM YOLO MODEL\n",
    "    blob = cv2.dnn.blobFromImage(input_image,1/255,(INPUT_WIDTH,INPUT_HEIGHT),swapRB=True,crop=False)\n",
    "    net.setInput(blob)\n",
    "    preds= net.forward()\n",
    "    detections = preds[0]\n",
    "    \n",
    "    return input_image, detections\n",
    "\n",
    "#cv2.namedWindow('test image',cv2.WINDOW_KEEPRATIO)\n",
    "#cv2.imshow('test image',img)\n",
    "#cv2.waitKey(0)\n",
    "#cv2.destroyAllWindows()\n",
    "\n",
    "\n",
    "\n",
    "\n",
    "\n",
    "\n",
    "def non_maximum_supression(input_image,detections):\n",
    "\n",
    "#FILTER DETECTION BOXES BASED ON CONFIDENCE AND PROBABILTY SCORE\n",
    "    boxes=[]\n",
    "    confidences =[]\n",
    "\n",
    "    image_w,image_h= input_image.shape[:2]\n",
    "    x_factor = image_w/INPUT_WIDTH\n",
    "    y_factor = image_h/INPUT_HEIGHT\n",
    "\n",
    "    for i in range(len(detections)):\n",
    "        row=detections[i]\n",
    "        confidence=row[4]\n",
    "        if confidence>0.4:\n",
    "            class_score=row[5]\n",
    "            #print(class_score)\n",
    "            if class_score>0.25:\n",
    "                cx, cy, w, h =row[0:4]\n",
    "               # print(cx,cy,w,h)\n",
    "\n",
    "                left=int((cx - 0.5*w)*x_factor)\n",
    "                top =int((cy - 0.5*h)*y_factor)\n",
    "                width = int(w*x_factor)\n",
    "                height = int(h*y_factor)\n",
    "                box =np.array([left,top,width,height])\n",
    "\n",
    "                confidences.append(confidence)\n",
    "                boxes.append(box)\n",
    "\n",
    "    #clean           \n",
    "    boxes_np=np.array(boxes).tolist()\n",
    "    confidences_np=np.array(confidences).tolist()\n",
    "\n",
    "    #NMS\n",
    "    #index= cv2.dnn.NMSBoxes(boxes_np,confidences_np,0.25,0.45).flatten()\n",
    "    index = np.array(cv2.dnn.NMSBoxes(boxes_np,confidences_np,0.25,0.45)).flatten()\n",
    "    \n",
    "    return boxes_np, confidences_np, index\n",
    "\n",
    "\n",
    "\n",
    "#drawing\n",
    "def drwaings(image,boxes_np,confidences_np,index):\n",
    "    for ind in index:\n",
    "        x,y,w,h = boxes_np[ind]\n",
    "        bb_conf = confidences_np[ind]\n",
    "        conf_text = 'plate: {:.0f}%'.format(bb_conf*100)\n",
    "\n",
    "\n",
    "        cv2.rectangle(image,(x,y),(x+w,y+h),(255,0,255),2)\n",
    "        cv2.rectangle(image,(x,y-30),(x+w,y),(255,0,255),-1)\n",
    "\n",
    "        cv2.putText(image,conf_text,(x,y-10),cv2.FONT_HERSHEY_SIMPLEX,0.7,(255,255,255),1)\n",
    "\n",
    "    return image\n",
    "\n"
   ]
  },
  {
   "cell_type": "code",
   "execution_count": 6,
   "id": "5dc37a77",
   "metadata": {},
   "outputs": [],
   "source": [
    "#predictions\n",
    "def yolo_predections(img,net):\n",
    "    ##Step1: detetctions\n",
    "    input_image, detections = get_detections(img,net)\n",
    "\n",
    "    ##Step2:NMS(non maximum sepration)\n",
    "    boxes_np, confidences_np, index = non_maximum_supression(input_image,detections)\n",
    "\n",
    "\n",
    "    ##Step3 Drawing\n",
    "    result_img = drwaings(input_image,boxes_np,confidences_np,index)\n",
    "    return result_img"
   ]
  },
  {
   "cell_type": "code",
   "execution_count": null,
   "id": "81ac5c28",
   "metadata": {},
   "outputs": [],
   "source": [
    "#testing\n",
    "#img= cv2.imread('./Module_4_Yolo_v5/test_images/getty_sample.jpg')\n",
    "\n",
    "results = yolo_predections(img,net)"
   ]
  },
  {
   "cell_type": "code",
   "execution_count": null,
   "id": "0940ae40",
   "metadata": {},
   "outputs": [],
   "source": [
    "cv2.namedWindow('result',cv2.WINDOW_KEEPRATIO)\n",
    "cv2.imshow('result',results)\n",
    "cv2.waitKey(0)\n",
    "cv2.destroyAllWindows()"
   ]
  },
  {
   "cell_type": "markdown",
   "id": "e76acffd",
   "metadata": {},
   "source": [
    "## REAL TIME OBJECT DETECTION"
   ]
  },
  {
   "cell_type": "code",
   "execution_count": null,
   "id": "c6be8661",
   "metadata": {},
   "outputs": [],
   "source": [
    "import cv2\n",
    "\n",
    "def yolo_predictions(frame, net):\n",
    "    # Assuming this function processes the frame and returns the processed frame\n",
    "    # Add the actual implementation of yolo_predictions function here\n",
    "    return frame  # Placeholder, replace with actual processing code\n",
    "\n",
    "cap = cv2.VideoCapture('./test_images/traffic2.mp4')\n",
    "\n",
    "if not cap.isOpened():\n",
    "    print(\"Error: Could not open video.\")\n",
    "    exit()\n",
    "\n",
    "while True:\n",
    "    ret, frame = cap.read()\n",
    "    \n",
    "    if not ret:\n",
    "        print('Unable to read video or end of video reached')\n",
    "        break\n",
    "    \n",
    "    results = yolo_predictions(frame, net)\n",
    "    \n",
    "    if results is None:\n",
    "        print('Error: YOLO predictions returned None')\n",
    "        break\n",
    "    \n",
    "    cv2.namedWindow('YOLO', cv2.WINDOW_KEEPRATIO)\n",
    "    cv2.imshow('YOLO', results)\n",
    "    \n",
    "    if cv2.waitKey(1) == 27:\n",
    "        break\n",
    "\n",
    "cv2.destroyAllWindows()\n",
    "cap.release()"
   ]
  },
  {
   "cell_type": "code",
   "execution_count": null,
   "id": "810a78bd",
   "metadata": {},
   "outputs": [],
   "source": []
  }
 ],
 "metadata": {
  "kernelspec": {
   "display_name": "Python 3 (ipykernel)",
   "language": "python",
   "name": "python3"
  },
  "language_info": {
   "codemirror_mode": {
    "name": "ipython",
    "version": 3
   },
   "file_extension": ".py",
   "mimetype": "text/x-python",
   "name": "python",
   "nbconvert_exporter": "python",
   "pygments_lexer": "ipython3",
   "version": "3.10.9"
  }
 },
 "nbformat": 4,
 "nbformat_minor": 5
}
